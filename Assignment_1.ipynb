{
  "nbformat": 4,
  "nbformat_minor": 0,
  "metadata": {
    "colab": {
      "name": "Assignment 1.ipynb",
      "provenance": [],
      "collapsed_sections": []
    },
    "kernelspec": {
      "name": "python3",
      "display_name": "Python 3"
    },
    "language_info": {
      "name": "python"
    }
  },
  "cells": [
    {
      "cell_type": "code",
      "metadata": {
        "colab": {
          "base_uri": "https://localhost:8080/"
        },
        "id": "zo6oxZfoaZPm",
        "outputId": "ab8bb87a-5b32-4d2e-bd1d-97ebe907740b"
      },
      "source": [
        "#1. Given two integer numbers return their product. If the product is greater than 1000, then return their sum.\n",
        "def my_function():\n",
        "  num1 =int(input(\" 1st value:\"))\n",
        "  num2 =int(input(\" 2nd value:\"))\n",
        "  s=0\n",
        "  sum = num1 + num2\n",
        "  if sum>1000:\n",
        "    return sum\n",
        "\n",
        "  else:\n",
        "    print()\n",
        "    print(\"print again\")\n",
        "    return my_function()\n",
        "x=my_function()\n",
        "print('The result is:',x)"
      ],
      "execution_count": null,
      "outputs": [
        {
          "output_type": "stream",
          "name": "stdout",
          "text": [
            " 1st value:30\n",
            " 2nd value:40\n",
            "\n",
            "print again\n",
            " 1st value:36\n",
            " 2nd value:1000\n",
            "The result is: 1036\n"
          ]
        }
      ]
    },
    {
      "cell_type": "code",
      "metadata": {
        "colab": {
          "base_uri": "https://localhost:8080/"
        },
        "id": "-CBLQmJacMT8",
        "outputId": "00e4bf32-e72d-4583-fa7d-3765962b198d"
      },
      "source": [
        "#2. Given a range of the first 10 numbers, Iterate from the start number to the end number, and In each iteration\n",
        " # print the sum of the current number and previous number\n",
        "sum = 0\n",
        "for idx in range(10):\n",
        "    print(f'current number = {idx}')\n",
        "    if idx != 0:\n",
        "        sum += idx\n",
        "        print(f'previous. sum = {sum}')"
      ],
      "execution_count": null,
      "outputs": [
        {
          "output_type": "stream",
          "name": "stdout",
          "text": [
            "current number = 0\n",
            "current number = 1\n",
            "previous. sum = 1\n",
            "current number = 2\n",
            "previous. sum = 3\n",
            "current number = 3\n",
            "previous. sum = 6\n",
            "current number = 4\n",
            "previous. sum = 10\n",
            "current number = 5\n",
            "previous. sum = 15\n",
            "current number = 6\n",
            "previous. sum = 21\n",
            "current number = 7\n",
            "previous. sum = 28\n",
            "current number = 8\n",
            "previous. sum = 36\n",
            "current number = 9\n",
            "previous. sum = 45\n"
          ]
        }
      ]
    },
    {
      "cell_type": "code",
      "metadata": {
        "colab": {
          "base_uri": "https://localhost:8080/"
        },
        "id": "GuAzeZlgdPqs",
        "outputId": "196e7852-f1ec-4e49-f214-f8df67b030f6"
      },
      "source": [
        "#3. Print First 10 natural numbers using while loop.\n",
        "x=0\n",
        "while x<10:\n",
        "  print(x)\n",
        "  x=x+1"
      ],
      "execution_count": null,
      "outputs": [
        {
          "output_type": "stream",
          "name": "stdout",
          "text": [
            "0\n",
            "1\n",
            "2\n",
            "3\n",
            "4\n",
            "5\n",
            "6\n",
            "7\n",
            "8\n",
            "9\n"
          ]
        }
      ]
    },
    {
      "cell_type": "code",
      "metadata": {
        "colab": {
          "base_uri": "https://localhost:8080/"
        },
        "id": "Sxay6XP6dT3r",
        "outputId": "01ce6e0f-674b-4e90-d1fd-13f76483db74"
      },
      "source": [
        "#4. Accept number from user and calculate the sum of all number from 1 to a given number\n",
        "x=int(input(\"Enter the value:\"))\n",
        "s=0\n",
        "for i in range(x+1):\n",
        "  s=s+i\n",
        "print(\"The sum is:\",s)"
      ],
      "execution_count": null,
      "outputs": [
        {
          "output_type": "stream",
          "name": "stdout",
          "text": [
            "Enter the value:44\n",
            "The sum is: 990\n"
          ]
        }
      ]
    },
    {
      "cell_type": "code",
      "metadata": {
        "colab": {
          "base_uri": "https://localhost:8080/"
        },
        "id": "7fvXizzmdnuk",
        "outputId": "3c0db43e-cc50-4cff-c546-ad70e50f21c8"
      },
      "source": [
        "#5. Given a list, iterate it, and display numbers divisible by five, and if you find a number greater than 150, stop the loop iteration.\n",
        "list1=[12,67,22,78,32,36,43,51,41,61,15,42,23,299]\n",
        "for i in list1:\n",
        "  if i<150:\n",
        "    if i%5==0:\n",
        "      print(i)\n",
        "  else:\n",
        "    break"
      ],
      "execution_count": null,
      "outputs": [
        {
          "output_type": "stream",
          "name": "stdout",
          "text": [
            "15\n"
          ]
        }
      ]
    },
    {
      "cell_type": "code",
      "metadata": {
        "colab": {
          "base_uri": "https://localhost:8080/"
        },
        "id": "Nj1qqbntemWd",
        "outputId": "f7bc6e4d-07bc-414c-b25c-e8d35de9d75c"
      },
      "source": [
        "#6. Reverse the following list using for loop\n",
        "list1=[12,67,22,78,32,36,43,51,41,61,15,42,23,299]\n",
        "for i in reversed(list1):\n",
        "  print(i)"
      ],
      "execution_count": null,
      "outputs": [
        {
          "output_type": "stream",
          "name": "stdout",
          "text": [
            "299\n",
            "23\n",
            "42\n",
            "15\n",
            "61\n",
            "41\n",
            "51\n",
            "43\n",
            "36\n",
            "32\n",
            "78\n",
            "22\n",
            "67\n",
            "12\n"
          ]
        }
      ]
    },
    {
      "cell_type": "code",
      "metadata": {
        "colab": {
          "base_uri": "https://localhost:8080/"
        },
        "id": "17LAWojXewd9",
        "outputId": "a4578313-8c02-4f32-d399-37e7bc03bbd5"
      },
      "source": [
        "#7. Display “My Name Is James” as “My**Name**Is**James” using output formatting of a print() function\n",
        "#For example: print('My', 'Name', 'Is', 'Tamim') will display MyNameIsJames\n",
        "\n",
        "#So use one of the formatting argument of print() to turn the output into My**Name**Is**Tamim\n",
        "print('My**'+'Name**'+'Is**'+'Tamim')"
      ],
      "execution_count": null,
      "outputs": [
        {
          "output_type": "stream",
          "name": "stdout",
          "text": [
            "My**Name**Is**Tamim\n"
          ]
        }
      ]
    },
    {
      "cell_type": "code",
      "metadata": {
        "colab": {
          "base_uri": "https://localhost:8080/"
        },
        "id": "kNYIYQ5tfDc0",
        "outputId": "42e5a27a-57cc-4968-b9e9-9799c35fa4b2"
      },
      "source": [
        "#8. Concatenate two lists index-wise\n",
        "test_list1 = [\"supti_\", \"lima_\", \"mithila_\"]\n",
        "test_list2 = ['khalida', 'era', 'rimi']\n",
        "  \n",
        "# printing original lists\n",
        "print (\"The original list 1 is : \" + str(test_list1))\n",
        "print (\"The original list 2 is : \" + str(test_list2))\n",
        "  \n",
        "# using list comprehension + zip()\n",
        "# interlist element concatenation\n",
        "res = [i + j for i, j in zip(test_list1, test_list2)]\n",
        "  \n",
        "# printing result \n",
        "print (\"The list after element concatenation is : \" +  str(res))"
      ],
      "execution_count": null,
      "outputs": [
        {
          "output_type": "stream",
          "name": "stdout",
          "text": [
            "The original list 1 is : ['supti_', 'lima_', 'mithila_']\n",
            "The original list 2 is : ['khalida', 'era', 'rimi']\n",
            "The list after element concatenation is : ['supti_khalida', 'lima_era', 'mithila_rimi']\n"
          ]
        }
      ]
    },
    {
      "cell_type": "code",
      "metadata": {
        "colab": {
          "base_uri": "https://localhost:8080/"
        },
        "id": "_8eS2Zi7frh3",
        "outputId": "380e51c9-27f7-4747-9cec-bac1161dd784"
      },
      "source": [
        "#9. Given a Python list of numbers. Turn every item of a list into its square\n",
        "list1=[1,2,3,4,5,6]\n",
        "list2=[]\n",
        "for i in list1:\n",
        "  z=i*i\n",
        "  list2.append(z)\n",
        "print(list2)"
      ],
      "execution_count": null,
      "outputs": [
        {
          "output_type": "stream",
          "name": "stdout",
          "text": [
            "[1, 4, 9, 16, 25, 36]\n"
          ]
        }
      ]
    },
    {
      "cell_type": "code",
      "metadata": {
        "colab": {
          "base_uri": "https://localhost:8080/"
        },
        "id": "bMx2o2RxgDG0",
        "outputId": "07c66c93-3199-4c7a-e7c6-b46c2fdf13b0"
      },
      "source": [
        "#10. Access value 20 from the following tuple\n",
        "Tuple = (\"Orange\", [10, 20, 30], (5, 15, 25))\n",
        "print(Tuple[1][1])"
      ],
      "execution_count": null,
      "outputs": [
        {
          "output_type": "stream",
          "name": "stdout",
          "text": [
            "20\n"
          ]
        }
      ]
    }
  ]
}